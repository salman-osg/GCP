{
 "cells": [
  {
   "cell_type": "code",
   "execution_count": 19,
   "metadata": {},
   "outputs": [
    {
     "data": {
      "text/plain": [
       "<_io.BufferedRandom name='test1_French Short Stories for Beginners - Learn French With Stories [French Audiobook].mp3'>"
      ]
     },
     "execution_count": 19,
     "metadata": {},
     "output_type": "execute_result"
    }
   ],
   "source": [
    "from pydub import AudioSegment\n",
    "#importing file from location by giving its path\n",
    "sound = AudioSegment.from_file(r'C:\\Users\\salmankhan\\Downloads\\French Short Stories for Beginners - Learn French With Stories [French Audiobook].mp4', format=\"mp4\")\n",
    "#Selecting Portion we want to cut\n",
    "StrtMin = 0\n",
    "StrtSec = 2\n",
    "EndMin = 0\n",
    "EndSec = 59\n",
    "# Time to milliseconds conversion\n",
    "StrtTime = StrtMin*60*1000+StrtSec*1000\n",
    "EndTime = StrtMin*60*1000+EndSec*1000\n",
    "# Opening file and extracting portion of it\n",
    "extract = sound[StrtTime:EndTime]\n",
    "# Saving file in required location\n",
    "extract.export(\"test1_French Short Stories for Beginners - Learn French With Stories [French Audiobook].mp3\", format=\"mp3\")"
   ]
  },
  {
   "cell_type": "code",
   "execution_count": null,
   "metadata": {},
   "outputs": [],
   "source": [
    "# from pydub import AudioSegment\n",
    "# import os\n",
    "\n",
    "# files_path = 'C:\\\\VS_Code\\\\speech_to_text\\\\GCP\\\\'\n",
    "# file_name = 'Seth_rogan_Naval_podcast_audio'\n",
    "\n",
    "# startMin = 0\n",
    "# startSec = 2\n",
    "\n",
    "# endMin = 0\n",
    "# endSec = 55\n",
    "\n",
    "# # Time to miliseconds\n",
    "# startTime = startMin*60*1000+startSec*1000\n",
    "# endTime = endMin*60*1000+endSec*1000\n",
    "\n",
    "# # Opening file and extracting segment\n",
    "# song = AudioSegment.from_mp3(os.getcwd()+files_path+file_name+'.mp3')\n",
    "# extract = song[startTime:endTime]\n",
    "\n",
    "# # Saving\n",
    "# extract.export( file_name+'-extract.mp3', format=\"mp3\")"
   ]
  }
 ],
 "metadata": {
  "kernelspec": {
   "display_name": "Python 3.7.9 ('gcp': venv)",
   "language": "python",
   "name": "python3"
  },
  "language_info": {
   "codemirror_mode": {
    "name": "ipython",
    "version": 3
   },
   "file_extension": ".py",
   "mimetype": "text/x-python",
   "name": "python",
   "nbconvert_exporter": "python",
   "pygments_lexer": "ipython3",
   "version": "3.7.9"
  },
  "orig_nbformat": 4,
  "vscode": {
   "interpreter": {
    "hash": "1a67c2e867a242d05262874d2649b4297979b7d38f6607700f29293444fcb6bc"
   }
  }
 },
 "nbformat": 4,
 "nbformat_minor": 2
}
