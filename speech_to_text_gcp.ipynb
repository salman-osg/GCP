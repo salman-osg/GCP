{
 "cells": [
  {
   "cell_type": "code",
   "execution_count": 1,
   "metadata": {},
   "outputs": [],
   "source": [
    "import os\n",
    "from google.cloud import speech\n",
    "\n",
    "os.environ['GOOGLE_APPLICATION_CREDENTIALS'] = 'salman_gcp_credentials.json'\n",
    "speech_client = speech.SpeechClient()"
   ]
  },
  {
   "cell_type": "code",
   "execution_count": 2,
   "metadata": {},
   "outputs": [],
   "source": [
    "# File Size: < 10mbs, length < 1 minute\n",
    "\n",
    "## Step 1. Load the media files\n",
    "media_file_name_mp3 = 'test1_Seth_rogan_Naval_podcast_audio.mp3'\n",
    "\n",
    "with open(media_file_name_mp3, 'rb') as f1:\n",
    "    byte_data_mp3 = f1.read()\n",
    "audio_mp3 = speech.RecognitionAudio(content=byte_data_mp3)"
   ]
  },
  {
   "cell_type": "code",
   "execution_count": 3,
   "metadata": {},
   "outputs": [],
   "source": [
    "## Step 2. Configure Media Files Output\n",
    "config_mp3 = speech.RecognitionConfig(\n",
    "    sample_rate_hertz=48000,\n",
    "    enable_automatic_punctuation=True,\n",
    "    language_code='en-US'\n",
    "    alternative_language_codes=['fr-FR','de-DE','hi-IN']\n",
    ")"
   ]
  },
  {
   "cell_type": "code",
   "execution_count": 4,
   "metadata": {},
   "outputs": [],
   "source": [
    "## Step 3. Transcribing the RecognitionAudio objects\n",
    "response_standard_mp3 = speech_client.recognize(\n",
    "    config=config_mp3,\n",
    "    audio=audio_mp3\n",
    ")"
   ]
  },
  {
   "cell_type": "code",
   "execution_count": 5,
   "metadata": {},
   "outputs": [
    {
     "name": "stdout",
     "output_type": "stream",
     "text": [
      "results {\n",
      "  alternatives {\n",
      "    transcript: \"Alright. Well, thank you very much for doing this man. I really appreciate it. I\\'ve been absorbing your information and listening to talk for quite a while now. So it\\'s it\\'s great to actually meet you. Thanks for having me, my pleasure, my pleasure, you are one of the rare guys that is, you\\'re a big investor you or your deep in the tech world, but yet you seem to have a very balanced perspective in terms of how to live life as opposed to not just be entirely focused on success and financial success and Tech investing. But rather how to live your life in a happy way. That\\'s a, it\\'s a it\\'s not balanced. Yeah. You know, I think the reason why people like hearing me is because like, if it\\'s like, if you go to a circus and you see a bear, right? That\\'s kind of interesting.\"\n",
      "    confidence: 0.9731644988059998\n",
      "  }\n",
      "  result_end_time {\n",
      "    seconds: 52\n",
      "    nanos: 950000000\n",
      "  }\n",
      "  language_code: \"en-us\"\n",
      "}\n",
      "total_billed_time {\n",
      "  seconds: 60\n",
      "}\n",
      "\n"
     ]
    }
   ],
   "source": [
    "print(response_standard_mp3)"
   ]
  },
  {
   "cell_type": "code",
   "execution_count": null,
   "metadata": {},
   "outputs": [],
   "source": []
  },
  {
   "cell_type": "code",
   "execution_count": null,
   "metadata": {},
   "outputs": [],
   "source": []
  },
  {
   "cell_type": "code",
   "execution_count": null,
   "metadata": {},
   "outputs": [],
   "source": []
  },
  {
   "cell_type": "code",
   "execution_count": null,
   "metadata": {},
   "outputs": [],
   "source": []
  },
  {
   "cell_type": "code",
   "execution_count": null,
   "metadata": {},
   "outputs": [],
   "source": []
  }
 ],
 "metadata": {
  "kernelspec": {
   "display_name": "Python 3.7.9 ('gcp': venv)",
   "language": "python",
   "name": "python3"
  },
  "language_info": {
   "codemirror_mode": {
    "name": "ipython",
    "version": 3
   },
   "file_extension": ".py",
   "mimetype": "text/x-python",
   "name": "python",
   "nbconvert_exporter": "python",
   "pygments_lexer": "ipython3",
   "version": "3.7.9"
  },
  "orig_nbformat": 4,
  "vscode": {
   "interpreter": {
    "hash": "1a67c2e867a242d05262874d2649b4297979b7d38f6607700f29293444fcb6bc"
   }
  }
 },
 "nbformat": 4,
 "nbformat_minor": 2
}
