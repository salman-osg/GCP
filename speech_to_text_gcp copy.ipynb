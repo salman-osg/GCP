{
 "cells": [
  {
   "cell_type": "code",
   "execution_count": 6,
   "metadata": {},
   "outputs": [
    {
     "name": "stdout",
     "output_type": "stream",
     "text": [
      "results {\n",
      "  alternatives {\n",
      "    transcript: \"La rentr\\303\\251e des classes et ton petit gar\\303\\247on calme et sage aujourd\\'hui, il va rentrer \\303\\240 l\\'\\303\\251cole primaire fini la maternelle, il est 8h. Le r\\303\\251veil a sonn\\303\\251 depuis 1h Th\\303\\251ophile. A englouti un bol de c\\303\\251r\\303\\251ales et un verre de jus d\\'abricot, c\\'est une belle journ\\303\\251e qui s\\'annonce. Le ciel est bleu dehors aujourd\\'hui, c\\'est aussi l\\'anniversaire de Th\\303\\251o fils, il va avoir 7 ans ce soir lors du d\\303\\256ner en famille et tu pourras souffler ses bougies et recevoir ses cadeaux. Th\\303\\251ophile est pr\\303\\252t. Sa maman lui a fait enfiler son pantalon bleu qui est son pr\\303\\251fet, il a \\303\\251galement eu le droit de mettre son t-shirt noir et dor\\303\\251 qui brille de mille feux et sa maman lui a achet\\303\\251 hier de super de basse.\"\n",
      "    confidence: 0.9331836104393005\n",
      "  }\n",
      "  result_end_time {\n",
      "    seconds: 56\n",
      "    nanos: 970000000\n",
      "  }\n",
      "  language_code: \"fr-fr\"\n",
      "}\n",
      "total_billed_time {\n",
      "  seconds: 60\n",
      "}\n",
      "\n"
     ]
    }
   ],
   "source": [
    "import os\n",
    "from google.cloud import speech\n",
    "\n",
    "os.environ['GOOGLE_APPLICATION_CREDENTIALS'] = 'salman_gcp_credentials.json'\n",
    "speech_client = speech.SpeechClient()\n",
    "\n",
    "# File Size: < 10mbs, length < 1 minute\n",
    "\n",
    "## Step 1. Load the media files\n",
    "media_file_name_mp3 = 'test1_French Short Stories for Beginners - Learn French With Stories [French Audiobook].mp3'\n",
    "\n",
    "with open(media_file_name_mp3, 'rb') as f1:\n",
    "    byte_data_mp3 = f1.read()\n",
    "audio_mp3 = speech.RecognitionAudio(content=byte_data_mp3)\n",
    "\n",
    "## Step 2. Configure Media Files Output\n",
    "config_mp3 = speech.RecognitionConfig(\n",
    "    sample_rate_hertz=48000,\n",
    "    enable_automatic_punctuation=True,\n",
    "    language_code='fr-FR',)\n",
    "    #alternative_language_codes=['fr-FR','de-DE','en-US'])\n",
    "\n",
    "## Step 3. Transcribing the RecognitionAudio objects\n",
    "response_standard_mp3 = speech_client.recognize(\n",
    "    config=config_mp3,\n",
    "    audio=audio_mp3)\n",
    "\n",
    "## Step 4. Print the transcription results\n",
    "print(response_standard_mp3)"
   ]
  },
  {
   "cell_type": "code",
   "execution_count": 2,
   "metadata": {},
   "outputs": [],
   "source": []
  },
  {
   "cell_type": "code",
   "execution_count": 3,
   "metadata": {},
   "outputs": [],
   "source": []
  },
  {
   "cell_type": "code",
   "execution_count": 4,
   "metadata": {},
   "outputs": [],
   "source": []
  },
  {
   "cell_type": "code",
   "execution_count": 5,
   "metadata": {},
   "outputs": [
    {
     "name": "stdout",
     "output_type": "stream",
     "text": [
      "results {\n",
      "  alternatives {\n",
      "    transcript: \"Alright. Well, thank you very much for doing this man. I really appreciate it. I\\'ve been absorbing your information and listening to talk for quite a while now. So it\\'s it\\'s great to actually meet you. Thanks for having me, my pleasure, my pleasure, you are one of the rare guys that is, you\\'re a big investor you or your deep in the tech world, but yet you seem to have a very balanced perspective in terms of how to live life as opposed to not just be entirely focused on success and financial success and Tech investing. But rather how to live your life in a happy way. That\\'s a, it\\'s a it\\'s not balanced. Yeah. You know, I think the reason why people like hearing me is because like, if it\\'s like, if you go to a circus and you see a bear, right? That\\'s kind of interesting.\"\n",
      "    confidence: 0.9731644988059998\n",
      "  }\n",
      "  result_end_time {\n",
      "    seconds: 52\n",
      "    nanos: 950000000\n",
      "  }\n",
      "  language_code: \"en-us\"\n",
      "}\n",
      "total_billed_time {\n",
      "  seconds: 60\n",
      "}\n",
      "\n"
     ]
    }
   ],
   "source": []
  },
  {
   "cell_type": "code",
   "execution_count": null,
   "metadata": {},
   "outputs": [],
   "source": []
  },
  {
   "cell_type": "code",
   "execution_count": null,
   "metadata": {},
   "outputs": [],
   "source": []
  },
  {
   "cell_type": "code",
   "execution_count": null,
   "metadata": {},
   "outputs": [],
   "source": []
  },
  {
   "cell_type": "code",
   "execution_count": null,
   "metadata": {},
   "outputs": [],
   "source": []
  },
  {
   "cell_type": "code",
   "execution_count": null,
   "metadata": {},
   "outputs": [],
   "source": []
  }
 ],
 "metadata": {
  "kernelspec": {
   "display_name": "Python 3.7.9 ('gcp': venv)",
   "language": "python",
   "name": "python3"
  },
  "language_info": {
   "codemirror_mode": {
    "name": "ipython",
    "version": 3
   },
   "file_extension": ".py",
   "mimetype": "text/x-python",
   "name": "python",
   "nbconvert_exporter": "python",
   "pygments_lexer": "ipython3",
   "version": "3.7.9"
  },
  "orig_nbformat": 4,
  "vscode": {
   "interpreter": {
    "hash": "1a67c2e867a242d05262874d2649b4297979b7d38f6607700f29293444fcb6bc"
   }
  }
 },
 "nbformat": 4,
 "nbformat_minor": 2
}
